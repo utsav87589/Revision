{
 "cells": [
  {
   "cell_type": "markdown",
   "id": "fdf5542c",
   "metadata": {},
   "source": [
    "## Apple stock price prediction"
   ]
  },
  {
   "cell_type": "code",
   "execution_count": 20,
   "id": "d11ad5b4",
   "metadata": {},
   "outputs": [],
   "source": [
    "import pandas as pd\n",
    "import numpy as np\n",
    "import seaborn as sns\n",
    "import pandas_datareader as pdr\n",
    "import matplotlib.pyplot as plt\n",
    "%matplotlib inline\n",
    "import os\n",
    "from dotenv import load_dotenv"
   ]
  },
  {
   "cell_type": "markdown",
   "id": "2e27103b",
   "metadata": {},
   "source": [
    "### loading the apple stock"
   ]
  },
  {
   "cell_type": "code",
   "execution_count": 8,
   "id": "5fc11111",
   "metadata": {},
   "outputs": [],
   "source": [
    "load_dotenv('.txt')\n",
    "key = os.getenv('key')"
   ]
  },
  {
   "cell_type": "code",
   "execution_count": 10,
   "id": "b9e5d8b5",
   "metadata": {},
   "outputs": [
    {
     "name": "stderr",
     "output_type": "stream",
     "text": [
      "C:\\Users\\lenovo\\AppData\\Local\\Temp\\ipykernel_32208\\3485825488.py:1: FutureWarning: In a future version of pandas all arguments of concat except for the argument 'objs' will be keyword-only.\n",
      "  df = pdr.get_data_tiingo('AAPL', api_key = key)\n"
     ]
    }
   ],
   "source": [
    "df = pdr.get_data_tiingo('AAPL', api_key = key)"
   ]
  },
  {
   "cell_type": "code",
   "execution_count": 11,
   "id": "afa2a795",
   "metadata": {},
   "outputs": [
    {
     "data": {
      "text/html": [
       "<div>\n",
       "<style scoped>\n",
       "    .dataframe tbody tr th:only-of-type {\n",
       "        vertical-align: middle;\n",
       "    }\n",
       "\n",
       "    .dataframe tbody tr th {\n",
       "        vertical-align: top;\n",
       "    }\n",
       "\n",
       "    .dataframe thead th {\n",
       "        text-align: right;\n",
       "    }\n",
       "</style>\n",
       "<table border=\"1\" class=\"dataframe\">\n",
       "  <thead>\n",
       "    <tr style=\"text-align: right;\">\n",
       "      <th></th>\n",
       "      <th></th>\n",
       "      <th>close</th>\n",
       "      <th>high</th>\n",
       "      <th>low</th>\n",
       "      <th>open</th>\n",
       "      <th>volume</th>\n",
       "      <th>adjClose</th>\n",
       "      <th>adjHigh</th>\n",
       "      <th>adjLow</th>\n",
       "      <th>adjOpen</th>\n",
       "      <th>adjVolume</th>\n",
       "      <th>divCash</th>\n",
       "      <th>splitFactor</th>\n",
       "    </tr>\n",
       "    <tr>\n",
       "      <th>symbol</th>\n",
       "      <th>date</th>\n",
       "      <th></th>\n",
       "      <th></th>\n",
       "      <th></th>\n",
       "      <th></th>\n",
       "      <th></th>\n",
       "      <th></th>\n",
       "      <th></th>\n",
       "      <th></th>\n",
       "      <th></th>\n",
       "      <th></th>\n",
       "      <th></th>\n",
       "      <th></th>\n",
       "    </tr>\n",
       "  </thead>\n",
       "  <tbody>\n",
       "    <tr>\n",
       "      <th rowspan=\"11\" valign=\"top\">AAPL</th>\n",
       "      <th>2020-09-25 00:00:00+00:00</th>\n",
       "      <td>112.28</td>\n",
       "      <td>112.44</td>\n",
       "      <td>107.6700</td>\n",
       "      <td>108.430</td>\n",
       "      <td>149981441</td>\n",
       "      <td>109.227549</td>\n",
       "      <td>109.383199</td>\n",
       "      <td>104.742877</td>\n",
       "      <td>105.482215</td>\n",
       "      <td>149981441</td>\n",
       "      <td>0.0</td>\n",
       "      <td>1.0</td>\n",
       "    </tr>\n",
       "    <tr>\n",
       "      <th>2020-09-28 00:00:00+00:00</th>\n",
       "      <td>114.96</td>\n",
       "      <td>115.32</td>\n",
       "      <td>112.7800</td>\n",
       "      <td>115.010</td>\n",
       "      <td>137672403</td>\n",
       "      <td>111.834690</td>\n",
       "      <td>112.184904</td>\n",
       "      <td>109.713956</td>\n",
       "      <td>111.883331</td>\n",
       "      <td>137672403</td>\n",
       "      <td>0.0</td>\n",
       "      <td>1.0</td>\n",
       "    </tr>\n",
       "    <tr>\n",
       "      <th>2020-09-29 00:00:00+00:00</th>\n",
       "      <td>114.09</td>\n",
       "      <td>115.31</td>\n",
       "      <td>113.5700</td>\n",
       "      <td>114.550</td>\n",
       "      <td>100060526</td>\n",
       "      <td>110.988342</td>\n",
       "      <td>112.175175</td>\n",
       "      <td>110.482479</td>\n",
       "      <td>111.435837</td>\n",
       "      <td>100060526</td>\n",
       "      <td>0.0</td>\n",
       "      <td>1.0</td>\n",
       "    </tr>\n",
       "    <tr>\n",
       "      <th>2020-09-30 00:00:00+00:00</th>\n",
       "      <td>115.81</td>\n",
       "      <td>117.26</td>\n",
       "      <td>113.6200</td>\n",
       "      <td>113.790</td>\n",
       "      <td>142675184</td>\n",
       "      <td>112.661582</td>\n",
       "      <td>114.072163</td>\n",
       "      <td>110.531120</td>\n",
       "      <td>110.696498</td>\n",
       "      <td>142675184</td>\n",
       "      <td>0.0</td>\n",
       "      <td>1.0</td>\n",
       "    </tr>\n",
       "    <tr>\n",
       "      <th>2020-10-01 00:00:00+00:00</th>\n",
       "      <td>116.79</td>\n",
       "      <td>117.72</td>\n",
       "      <td>115.8300</td>\n",
       "      <td>117.640</td>\n",
       "      <td>116120440</td>\n",
       "      <td>113.614940</td>\n",
       "      <td>114.519657</td>\n",
       "      <td>112.681039</td>\n",
       "      <td>114.441832</td>\n",
       "      <td>116120440</td>\n",
       "      <td>0.0</td>\n",
       "      <td>1.0</td>\n",
       "    </tr>\n",
       "    <tr>\n",
       "      <th>...</th>\n",
       "      <td>...</td>\n",
       "      <td>...</td>\n",
       "      <td>...</td>\n",
       "      <td>...</td>\n",
       "      <td>...</td>\n",
       "      <td>...</td>\n",
       "      <td>...</td>\n",
       "      <td>...</td>\n",
       "      <td>...</td>\n",
       "      <td>...</td>\n",
       "      <td>...</td>\n",
       "      <td>...</td>\n",
       "    </tr>\n",
       "    <tr>\n",
       "      <th>2025-09-18 00:00:00+00:00</th>\n",
       "      <td>237.88</td>\n",
       "      <td>241.20</td>\n",
       "      <td>236.6500</td>\n",
       "      <td>239.970</td>\n",
       "      <td>44249576</td>\n",
       "      <td>237.880000</td>\n",
       "      <td>241.200000</td>\n",
       "      <td>236.650000</td>\n",
       "      <td>239.970000</td>\n",
       "      <td>44249576</td>\n",
       "      <td>0.0</td>\n",
       "      <td>1.0</td>\n",
       "    </tr>\n",
       "    <tr>\n",
       "      <th>2025-09-19 00:00:00+00:00</th>\n",
       "      <td>245.50</td>\n",
       "      <td>246.30</td>\n",
       "      <td>240.2106</td>\n",
       "      <td>241.225</td>\n",
       "      <td>163741314</td>\n",
       "      <td>245.500000</td>\n",
       "      <td>246.300000</td>\n",
       "      <td>240.210600</td>\n",
       "      <td>241.225000</td>\n",
       "      <td>163741314</td>\n",
       "      <td>0.0</td>\n",
       "      <td>1.0</td>\n",
       "    </tr>\n",
       "    <tr>\n",
       "      <th>2025-09-22 00:00:00+00:00</th>\n",
       "      <td>256.08</td>\n",
       "      <td>256.64</td>\n",
       "      <td>248.1200</td>\n",
       "      <td>248.300</td>\n",
       "      <td>105517416</td>\n",
       "      <td>256.080000</td>\n",
       "      <td>256.640000</td>\n",
       "      <td>248.120000</td>\n",
       "      <td>248.300000</td>\n",
       "      <td>105517416</td>\n",
       "      <td>0.0</td>\n",
       "      <td>1.0</td>\n",
       "    </tr>\n",
       "    <tr>\n",
       "      <th>2025-09-23 00:00:00+00:00</th>\n",
       "      <td>254.43</td>\n",
       "      <td>257.34</td>\n",
       "      <td>253.5800</td>\n",
       "      <td>255.875</td>\n",
       "      <td>60275187</td>\n",
       "      <td>254.430000</td>\n",
       "      <td>257.340000</td>\n",
       "      <td>253.580000</td>\n",
       "      <td>255.875000</td>\n",
       "      <td>60275187</td>\n",
       "      <td>0.0</td>\n",
       "      <td>1.0</td>\n",
       "    </tr>\n",
       "    <tr>\n",
       "      <th>2025-09-24 00:00:00+00:00</th>\n",
       "      <td>252.31</td>\n",
       "      <td>255.74</td>\n",
       "      <td>251.0400</td>\n",
       "      <td>255.220</td>\n",
       "      <td>42173898</td>\n",
       "      <td>252.310000</td>\n",
       "      <td>255.740000</td>\n",
       "      <td>251.040000</td>\n",
       "      <td>255.220000</td>\n",
       "      <td>42173898</td>\n",
       "      <td>0.0</td>\n",
       "      <td>1.0</td>\n",
       "    </tr>\n",
       "  </tbody>\n",
       "</table>\n",
       "<p>1255 rows × 12 columns</p>\n",
       "</div>"
      ],
      "text/plain": [
       "                                   close    high       low     open  \\\n",
       "symbol date                                                           \n",
       "AAPL   2020-09-25 00:00:00+00:00  112.28  112.44  107.6700  108.430   \n",
       "       2020-09-28 00:00:00+00:00  114.96  115.32  112.7800  115.010   \n",
       "       2020-09-29 00:00:00+00:00  114.09  115.31  113.5700  114.550   \n",
       "       2020-09-30 00:00:00+00:00  115.81  117.26  113.6200  113.790   \n",
       "       2020-10-01 00:00:00+00:00  116.79  117.72  115.8300  117.640   \n",
       "...                                  ...     ...       ...      ...   \n",
       "       2025-09-18 00:00:00+00:00  237.88  241.20  236.6500  239.970   \n",
       "       2025-09-19 00:00:00+00:00  245.50  246.30  240.2106  241.225   \n",
       "       2025-09-22 00:00:00+00:00  256.08  256.64  248.1200  248.300   \n",
       "       2025-09-23 00:00:00+00:00  254.43  257.34  253.5800  255.875   \n",
       "       2025-09-24 00:00:00+00:00  252.31  255.74  251.0400  255.220   \n",
       "\n",
       "                                     volume    adjClose     adjHigh  \\\n",
       "symbol date                                                           \n",
       "AAPL   2020-09-25 00:00:00+00:00  149981441  109.227549  109.383199   \n",
       "       2020-09-28 00:00:00+00:00  137672403  111.834690  112.184904   \n",
       "       2020-09-29 00:00:00+00:00  100060526  110.988342  112.175175   \n",
       "       2020-09-30 00:00:00+00:00  142675184  112.661582  114.072163   \n",
       "       2020-10-01 00:00:00+00:00  116120440  113.614940  114.519657   \n",
       "...                                     ...         ...         ...   \n",
       "       2025-09-18 00:00:00+00:00   44249576  237.880000  241.200000   \n",
       "       2025-09-19 00:00:00+00:00  163741314  245.500000  246.300000   \n",
       "       2025-09-22 00:00:00+00:00  105517416  256.080000  256.640000   \n",
       "       2025-09-23 00:00:00+00:00   60275187  254.430000  257.340000   \n",
       "       2025-09-24 00:00:00+00:00   42173898  252.310000  255.740000   \n",
       "\n",
       "                                      adjLow     adjOpen  adjVolume  divCash  \\\n",
       "symbol date                                                                    \n",
       "AAPL   2020-09-25 00:00:00+00:00  104.742877  105.482215  149981441      0.0   \n",
       "       2020-09-28 00:00:00+00:00  109.713956  111.883331  137672403      0.0   \n",
       "       2020-09-29 00:00:00+00:00  110.482479  111.435837  100060526      0.0   \n",
       "       2020-09-30 00:00:00+00:00  110.531120  110.696498  142675184      0.0   \n",
       "       2020-10-01 00:00:00+00:00  112.681039  114.441832  116120440      0.0   \n",
       "...                                      ...         ...        ...      ...   \n",
       "       2025-09-18 00:00:00+00:00  236.650000  239.970000   44249576      0.0   \n",
       "       2025-09-19 00:00:00+00:00  240.210600  241.225000  163741314      0.0   \n",
       "       2025-09-22 00:00:00+00:00  248.120000  248.300000  105517416      0.0   \n",
       "       2025-09-23 00:00:00+00:00  253.580000  255.875000   60275187      0.0   \n",
       "       2025-09-24 00:00:00+00:00  251.040000  255.220000   42173898      0.0   \n",
       "\n",
       "                                  splitFactor  \n",
       "symbol date                                    \n",
       "AAPL   2020-09-25 00:00:00+00:00          1.0  \n",
       "       2020-09-28 00:00:00+00:00          1.0  \n",
       "       2020-09-29 00:00:00+00:00          1.0  \n",
       "       2020-09-30 00:00:00+00:00          1.0  \n",
       "       2020-10-01 00:00:00+00:00          1.0  \n",
       "...                                       ...  \n",
       "       2025-09-18 00:00:00+00:00          1.0  \n",
       "       2025-09-19 00:00:00+00:00          1.0  \n",
       "       2025-09-22 00:00:00+00:00          1.0  \n",
       "       2025-09-23 00:00:00+00:00          1.0  \n",
       "       2025-09-24 00:00:00+00:00          1.0  \n",
       "\n",
       "[1255 rows x 12 columns]"
      ]
     },
     "execution_count": 11,
     "metadata": {},
     "output_type": "execute_result"
    }
   ],
   "source": [
    "df"
   ]
  },
  {
   "cell_type": "code",
   "execution_count": 12,
   "id": "951fec51",
   "metadata": {},
   "outputs": [],
   "source": [
    "df = df.to_csv('AAPL.CSV')"
   ]
  },
  {
   "cell_type": "code",
   "execution_count": 21,
   "id": "882a48a9",
   "metadata": {},
   "outputs": [
    {
     "data": {
      "text/html": [
       "<div>\n",
       "<style scoped>\n",
       "    .dataframe tbody tr th:only-of-type {\n",
       "        vertical-align: middle;\n",
       "    }\n",
       "\n",
       "    .dataframe tbody tr th {\n",
       "        vertical-align: top;\n",
       "    }\n",
       "\n",
       "    .dataframe thead th {\n",
       "        text-align: right;\n",
       "    }\n",
       "</style>\n",
       "<table border=\"1\" class=\"dataframe\">\n",
       "  <thead>\n",
       "    <tr style=\"text-align: right;\">\n",
       "      <th></th>\n",
       "      <th>symbol</th>\n",
       "      <th>date</th>\n",
       "      <th>close</th>\n",
       "      <th>high</th>\n",
       "      <th>low</th>\n",
       "      <th>open</th>\n",
       "      <th>volume</th>\n",
       "      <th>adjClose</th>\n",
       "      <th>adjHigh</th>\n",
       "      <th>adjLow</th>\n",
       "      <th>adjOpen</th>\n",
       "      <th>adjVolume</th>\n",
       "      <th>divCash</th>\n",
       "      <th>splitFactor</th>\n",
       "    </tr>\n",
       "  </thead>\n",
       "  <tbody>\n",
       "    <tr>\n",
       "      <th>0</th>\n",
       "      <td>AAPL</td>\n",
       "      <td>2020-09-25 00:00:00+00:00</td>\n",
       "      <td>112.28</td>\n",
       "      <td>112.44</td>\n",
       "      <td>107.67</td>\n",
       "      <td>108.43</td>\n",
       "      <td>149981441</td>\n",
       "      <td>109.227549</td>\n",
       "      <td>109.383199</td>\n",
       "      <td>104.742877</td>\n",
       "      <td>105.482215</td>\n",
       "      <td>149981441</td>\n",
       "      <td>0.0</td>\n",
       "      <td>1.0</td>\n",
       "    </tr>\n",
       "    <tr>\n",
       "      <th>1</th>\n",
       "      <td>AAPL</td>\n",
       "      <td>2020-09-28 00:00:00+00:00</td>\n",
       "      <td>114.96</td>\n",
       "      <td>115.32</td>\n",
       "      <td>112.78</td>\n",
       "      <td>115.01</td>\n",
       "      <td>137672403</td>\n",
       "      <td>111.834690</td>\n",
       "      <td>112.184904</td>\n",
       "      <td>109.713956</td>\n",
       "      <td>111.883331</td>\n",
       "      <td>137672403</td>\n",
       "      <td>0.0</td>\n",
       "      <td>1.0</td>\n",
       "    </tr>\n",
       "    <tr>\n",
       "      <th>2</th>\n",
       "      <td>AAPL</td>\n",
       "      <td>2020-09-29 00:00:00+00:00</td>\n",
       "      <td>114.09</td>\n",
       "      <td>115.31</td>\n",
       "      <td>113.57</td>\n",
       "      <td>114.55</td>\n",
       "      <td>100060526</td>\n",
       "      <td>110.988342</td>\n",
       "      <td>112.175175</td>\n",
       "      <td>110.482479</td>\n",
       "      <td>111.435837</td>\n",
       "      <td>100060526</td>\n",
       "      <td>0.0</td>\n",
       "      <td>1.0</td>\n",
       "    </tr>\n",
       "    <tr>\n",
       "      <th>3</th>\n",
       "      <td>AAPL</td>\n",
       "      <td>2020-09-30 00:00:00+00:00</td>\n",
       "      <td>115.81</td>\n",
       "      <td>117.26</td>\n",
       "      <td>113.62</td>\n",
       "      <td>113.79</td>\n",
       "      <td>142675184</td>\n",
       "      <td>112.661582</td>\n",
       "      <td>114.072163</td>\n",
       "      <td>110.531120</td>\n",
       "      <td>110.696498</td>\n",
       "      <td>142675184</td>\n",
       "      <td>0.0</td>\n",
       "      <td>1.0</td>\n",
       "    </tr>\n",
       "    <tr>\n",
       "      <th>4</th>\n",
       "      <td>AAPL</td>\n",
       "      <td>2020-10-01 00:00:00+00:00</td>\n",
       "      <td>116.79</td>\n",
       "      <td>117.72</td>\n",
       "      <td>115.83</td>\n",
       "      <td>117.64</td>\n",
       "      <td>116120440</td>\n",
       "      <td>113.614940</td>\n",
       "      <td>114.519657</td>\n",
       "      <td>112.681039</td>\n",
       "      <td>114.441832</td>\n",
       "      <td>116120440</td>\n",
       "      <td>0.0</td>\n",
       "      <td>1.0</td>\n",
       "    </tr>\n",
       "  </tbody>\n",
       "</table>\n",
       "</div>"
      ],
      "text/plain": [
       "  symbol                       date   close    high     low    open  \\\n",
       "0   AAPL  2020-09-25 00:00:00+00:00  112.28  112.44  107.67  108.43   \n",
       "1   AAPL  2020-09-28 00:00:00+00:00  114.96  115.32  112.78  115.01   \n",
       "2   AAPL  2020-09-29 00:00:00+00:00  114.09  115.31  113.57  114.55   \n",
       "3   AAPL  2020-09-30 00:00:00+00:00  115.81  117.26  113.62  113.79   \n",
       "4   AAPL  2020-10-01 00:00:00+00:00  116.79  117.72  115.83  117.64   \n",
       "\n",
       "      volume    adjClose     adjHigh      adjLow     adjOpen  adjVolume  \\\n",
       "0  149981441  109.227549  109.383199  104.742877  105.482215  149981441   \n",
       "1  137672403  111.834690  112.184904  109.713956  111.883331  137672403   \n",
       "2  100060526  110.988342  112.175175  110.482479  111.435837  100060526   \n",
       "3  142675184  112.661582  114.072163  110.531120  110.696498  142675184   \n",
       "4  116120440  113.614940  114.519657  112.681039  114.441832  116120440   \n",
       "\n",
       "   divCash  splitFactor  \n",
       "0      0.0          1.0  \n",
       "1      0.0          1.0  \n",
       "2      0.0          1.0  \n",
       "3      0.0          1.0  \n",
       "4      0.0          1.0  "
      ]
     },
     "execution_count": 21,
     "metadata": {},
     "output_type": "execute_result"
    }
   ],
   "source": [
    "df = pd.read_csv('AAPL.CSV')\n",
    "df.head()"
   ]
  },
  {
   "cell_type": "code",
   "execution_count": 22,
   "id": "569c3d16",
   "metadata": {},
   "outputs": [
    {
     "data": {
      "text/plain": [
       "(1255, 14)"
      ]
     },
     "execution_count": 22,
     "metadata": {},
     "output_type": "execute_result"
    }
   ],
   "source": [
    "df.shape"
   ]
  },
  {
   "cell_type": "code",
   "execution_count": 23,
   "id": "64f59e00",
   "metadata": {},
   "outputs": [],
   "source": [
    "df = df[['close']].values"
   ]
  },
  {
   "cell_type": "code",
   "execution_count": 24,
   "id": "5fe5c8d6",
   "metadata": {},
   "outputs": [
    {
     "data": {
      "text/plain": [
       "array([[112.28],\n",
       "       [114.96],\n",
       "       [114.09],\n",
       "       ...,\n",
       "       [256.08],\n",
       "       [254.43],\n",
       "       [252.31]])"
      ]
     },
     "execution_count": 24,
     "metadata": {},
     "output_type": "execute_result"
    }
   ],
   "source": [
    "df"
   ]
  },
  {
   "cell_type": "code",
   "execution_count": 25,
   "id": "3826df3a",
   "metadata": {},
   "outputs": [
    {
     "data": {
      "text/plain": [
       "[<matplotlib.lines.Line2D at 0x2259e289840>]"
      ]
     },
     "execution_count": 25,
     "metadata": {},
     "output_type": "execute_result"
    },
    {
     "data": {
      "image/png": "[encoded data removed]",
      "text/plain": [
       "<Figure size 640x480 with 1 Axes>"
      ]
     },
     "metadata": {},
     "output_type": "display_data"
    }
   ],
   "source": [
    "plt.plot(df)"
   ]
  },
  {
   "cell_type": "markdown",
   "id": "fa593d5b",
   "metadata": {},
   "source": [
    "### apply the min max scaler"
   ]
  },
  {
   "cell_type": "code",
   "execution_count": 26,
   "id": "2970dd95",
   "metadata": {},
   "outputs": [],
   "source": [
    "from sklearn.preprocessing import MinMaxScaler\n",
    "scaler = MinMaxScaler(feature_range = (0, 1))\n",
    "df = scaler.fit_transform(df)"
   ]
  },
  {
   "cell_type": "code",
   "execution_count": 27,
   "id": "cda843bf",
   "metadata": {},
   "outputs": [
    {
     "data": {
      "text/plain": [
       "array([[0.02336106],\n",
       "       [0.041198  ],\n",
       "       [0.03540765],\n",
       "       ...,\n",
       "       [0.98043261],\n",
       "       [0.96945092],\n",
       "       [0.9553411 ]])"
      ]
     },
     "execution_count": 27,
     "metadata": {},
     "output_type": "execute_result"
    }
   ],
   "source": [
    "df"
   ]
  },
  {
   "cell_type": "markdown",
   "id": "12c7d8b3",
   "metadata": {},
   "source": [
    "### making the arrays"
   ]
  },
  {
   "cell_type": "code",
   "execution_count": 28,
   "id": "323f4529",
   "metadata": {},
   "outputs": [],
   "source": [
    "days = 90\n",
    "\n",
    "def create_dataset(df, days = 90) : \n",
    "    X, y = [], []\n",
    "\n",
    "    for i in range(len(df)-days) : \n",
    "        X.append(df[i : i + days, 0])\n",
    "        y.append(df[i + days, 0])\n",
    "    \n",
    "    return np.array(X), np.array(y)"
   ]
  },
  {
   "cell_type": "code",
   "execution_count": 29,
   "id": "72936eee",
   "metadata": {},
   "outputs": [],
   "source": [
    "X, y = create_dataset(df, days = 90)"
   ]
  },
  {
   "cell_type": "code",
   "execution_count": 30,
   "id": "4a21f4cc",
   "metadata": {},
   "outputs": [
    {
     "data": {
      "text/plain": [
       "array([[0.02336106, 0.041198  , 0.03540765, ..., 0.16885191, 0.17450915,\n",
       "        0.1675208 ],\n",
       "       [0.041198  , 0.03540765, 0.04685524, ..., 0.17450915, 0.1675208 ,\n",
       "        0.19048253],\n",
       "       [0.03540765, 0.04685524, 0.0533777 , ..., 0.1675208 , 0.19048253,\n",
       "        0.18628952],\n",
       "       ...,\n",
       "       [0.69324459, 0.68925125, 0.68339434, ..., 0.86668885, 0.85930116,\n",
       "        0.91001664],\n",
       "       [0.68925125, 0.68339434, 0.68212978, ..., 0.85930116, 0.91001664,\n",
       "        0.98043261],\n",
       "       [0.68339434, 0.68212978, 0.66562396, ..., 0.91001664, 0.98043261,\n",
       "        0.96945092]])"
      ]
     },
     "execution_count": 30,
     "metadata": {},
     "output_type": "execute_result"
    }
   ],
   "source": [
    "X"
   ]
  },
  {
   "cell_type": "code",
   "execution_count": 31,
   "id": "6757bbfa",
   "metadata": {},
   "outputs": [
    {
     "data": {
      "text/plain": [
       "array([0.19048253, 0.18628952, 0.18728785, ..., 0.98043261, 0.96945092,\n",
       "       0.9553411 ])"
      ]
     },
     "execution_count": 31,
     "metadata": {},
     "output_type": "execute_result"
    }
   ],
   "source": [
    "y"
   ]
  },
  {
   "cell_type": "markdown",
   "id": "3605215d",
   "metadata": {},
   "source": [
    "### reshaping the X"
   ]
  },
  {
   "cell_type": "code",
   "execution_count": 33,
   "id": "e7d43727",
   "metadata": {},
   "outputs": [],
   "source": [
    "X = X.reshape(X.shape[0], X.shape[1], 1)"
   ]
  },
  {
   "cell_type": "code",
   "execution_count": 35,
   "id": "4dee4809",
   "metadata": {},
   "outputs": [
    {
     "name": "stdout",
     "output_type": "stream",
     "text": [
      "(1165, 90, 1) :: (1165,)\n"
     ]
    }
   ],
   "source": [
    "print(f\"{X.shape} :: {y.shape}\")"
   ]
  },
  {
   "cell_type": "markdown",
   "id": "7b20fd24",
   "metadata": {},
   "source": [
    "### train and test data"
   ]
  },
  {
   "cell_type": "code",
   "execution_count": 58,
   "id": "0ff2aeb9",
   "metadata": {},
   "outputs": [],
   "source": [
    "# from sklearn.model_selection import train_test_split\\\n",
    "# X_train, X_test, y_train, y_test = train_test_split(X, y, test_size = 0.20, shuffle = False)\n",
    "# print(f\"{X_train.shape} :: {X_test.shape} :: {y_train.shape} :: {y_test.shape}\")"
   ]
  },
  {
   "cell_type": "code",
   "execution_count": 59,
   "id": "9746b20a",
   "metadata": {},
   "outputs": [],
   "source": [
    "test_size = int(len(df) * 0.80)\n",
    "X_train, X_test = X[:test_size], X[test_size:]\n",
    "y_train, y_test = y[:test_size], y[test_size:]"
   ]
  },
  {
   "cell_type": "code",
   "execution_count": 62,
   "id": "58eec67b",
   "metadata": {},
   "outputs": [
    {
     "name": "stdout",
     "output_type": "stream",
     "text": [
      "(1004, 90, 1) :: (161, 90, 1) :: (1004,) :: (161,)\n"
     ]
    }
   ],
   "source": [
    "print(f\"{X_train.shape} :: {X_test.shape} :: {y_train.shape} :: {y_test.shape}\")"
   ]
  },
  {
   "cell_type": "markdown",
   "id": "01ce7ee1",
   "metadata": {},
   "source": [
    "### creating the model"
   ]
  },
  {
   "cell_type": "code",
   "execution_count": 65,
   "id": "f68031ec",
   "metadata": {},
   "outputs": [],
   "source": [
    "import tensorflow\n",
    "from tensorflow.keras.models import Sequential\n",
    "from tensorflow.keras.layers import LSTM, Bidirectional, Dense, Dropout"
   ]
  },
  {
   "cell_type": "code",
   "execution_count": 66,
   "id": "fe39e564",
   "metadata": {},
   "outputs": [],
   "source": [
    "model = Sequential()"
   ]
  },
  {
   "cell_type": "code",
   "execution_count": 67,
   "id": "b8bef40c",
   "metadata": {},
   "outputs": [],
   "source": [
    "model.add(LSTM(50, return_sequences = True, input_shape = (days, 1)))\n",
    "model.add(Dropout(0.33))\n",
    "model.add(Bidirectional(LSTM(100)))\n",
    "model.add(Dropout(0.33))\n",
    "model.add(Dense(1, activation = 'linear'))\n",
    "model.compile(optimizer = 'adam', loss = 'mean_squared_error', metrics = ['mse'])"
   ]
  },
  {
   "cell_type": "code",
   "execution_count": 68,
   "id": "4bb33199",
   "metadata": {},
   "outputs": [
    {
     "name": "stdout",
     "output_type": "stream",
     "text": [
      "Model: \"sequential\"\n",
      "_________________________________________________________________\n",
      " Layer (type)                Output Shape              Param #   \n",
      "=================================================================\n",
      " lstm (LSTM)                 (None, 90, 50)            10400     \n",
      "                                                                 \n",
      " dropout (Dropout)           (None, 90, 50)            0         \n",
      "                                                                 \n",
      " bidirectional (Bidirectiona  (None, 200)              120800    \n",
      " l)                                                              \n",
      "                                                                 \n",
      " dropout_1 (Dropout)         (None, 200)               0         \n",
      "                                                                 \n",
      " dense (Dense)               (None, 1)                 201       \n",
      "                                                                 \n",
      "=================================================================\n",
      "Total params: 131,401\n",
      "Trainable params: 131,401\n",
      "Non-trainable params: 0\n",
      "_________________________________________________________________\n"
     ]
    }
   ],
   "source": [
    "model.summary()"
   ]
  },
  {
   "cell_type": "markdown",
   "id": "64af9d78",
   "metadata": {},
   "source": [
    "### training of the model"
   ]
  },
  {
   "cell_type": "code",
   "execution_count": 70,
   "id": "2c8e1160",
   "metadata": {},
   "outputs": [
    {
     "name": "stdout",
     "output_type": "stream",
     "text": [
      "Epoch 1/20\n",
      "32/32 [==============================] - 2s 74ms/step - loss: 0.0083 - mse: 0.0083\n",
      "Epoch 2/20\n",
      "32/32 [==============================] - 2s 77ms/step - loss: 0.0044 - mse: 0.0044\n",
      "Epoch 3/20\n",
      "32/32 [==============================] - 2s 74ms/step - loss: 0.0039 - mse: 0.0039\n",
      "Epoch 4/20\n",
      "32/32 [==============================] - 2s 76ms/step - loss: 0.0032 - mse: 0.0032\n",
      "Epoch 5/20\n",
      "32/32 [==============================] - 2s 75ms/step - loss: 0.0035 - mse: 0.0035\n",
      "Epoch 6/20\n",
      "32/32 [==============================] - 2s 75ms/step - loss: 0.0037 - mse: 0.0037\n",
      "Epoch 7/20\n",
      "32/32 [==============================] - 2s 74ms/step - loss: 0.0031 - mse: 0.0031\n",
      "Epoch 8/20\n",
      "32/32 [==============================] - 2s 75ms/step - loss: 0.0027 - mse: 0.0027\n",
      "Epoch 9/20\n",
      "32/32 [==============================] - 2s 75ms/step - loss: 0.0027 - mse: 0.0027\n",
      "Epoch 10/20\n",
      "32/32 [==============================] - 2s 74ms/step - loss: 0.0028 - mse: 0.0028\n",
      "Epoch 11/20\n",
      "32/32 [==============================] - 2s 74ms/step - loss: 0.0026 - mse: 0.0026\n",
      "Epoch 12/20\n",
      "32/32 [==============================] - 2s 74ms/step - loss: 0.0026 - mse: 0.0026\n",
      "Epoch 13/20\n",
      "32/32 [==============================] - 2s 74ms/step - loss: 0.0026 - mse: 0.0026\n",
      "Epoch 14/20\n",
      "32/32 [==============================] - 2s 74ms/step - loss: 0.0024 - mse: 0.0024\n",
      "Epoch 15/20\n",
      "32/32 [==============================] - 2s 74ms/step - loss: 0.0025 - mse: 0.0025\n",
      "Epoch 16/20\n",
      "32/32 [==============================] - 2s 74ms/step - loss: 0.0023 - mse: 0.0023\n",
      "Epoch 17/20\n",
      "32/32 [==============================] - 2s 73ms/step - loss: 0.0023 - mse: 0.0023\n",
      "Epoch 18/20\n",
      "32/32 [==============================] - 2s 74ms/step - loss: 0.0027 - mse: 0.0027\n",
      "Epoch 19/20\n",
      "32/32 [==============================] - 2s 73ms/step - loss: 0.0023 - mse: 0.0023\n",
      "Epoch 20/20\n",
      "32/32 [==============================] - 2s 71ms/step - loss: 0.0021 - mse: 0.0021\n"
     ]
    },
    {
     "data": {
      "text/plain": [
       "<keras.callbacks.History at 0x225acb2fe20>"
      ]
     },
     "execution_count": 70,
     "metadata": {},
     "output_type": "execute_result"
    }
   ],
   "source": [
    "model.fit(X_train, y_train, epochs = 20, batch_size = 32, verbose = 1)"
   ]
  },
  {
   "cell_type": "markdown",
   "id": "2f590741",
   "metadata": {},
   "source": [
    "### model performance"
   ]
  },
  {
   "cell_type": "code",
   "execution_count": 71,
   "id": "93702bca",
   "metadata": {},
   "outputs": [
    {
     "name": "stdout",
     "output_type": "stream",
     "text": [
      "6/6 [==============================] - 1s 18ms/step\n"
     ]
    }
   ],
   "source": [
    "y_pred = model.predict(X_test)"
   ]
  },
  {
   "cell_type": "code",
   "execution_count": 73,
   "id": "632da269",
   "metadata": {},
   "outputs": [],
   "source": [
    "y_pred = scaler.inverse_transform(y_pred.reshape(-1, 1))\n",
    "y_test = scaler.inverse_transform(y_test.reshape(-1, 1))"
   ]
  },
  {
   "cell_type": "code",
   "execution_count": 76,
   "id": "f56aba6d",
   "metadata": {},
   "outputs": [
    {
     "name": "stdout",
     "output_type": "stream",
     "text": [
      "0.571497372879091\n",
      "6.353565404666877\n",
      "6.353565404666877\n",
      "8.99551061224981\n"
     ]
    }
   ],
   "source": [
    "from sklearn.metrics import r2_score, mean_absolute_error, mean_squared_error, root_mean_squared_error\n",
    "print(r2_score(y_pred, y_test))\n",
    "print(mean_absolute_error(y_pred, y_test))\n",
    "print(mean_absolute_error(y_pred, y_test))\n",
    "print(root_mean_squared_error(y_pred, y_test))"
   ]
  },
  {
   "cell_type": "code",
   "execution_count": 77,
   "id": "cc23d336",
   "metadata": {},
   "outputs": [
    {
     "data": {
      "text/plain": [
       "[<matplotlib.lines.Line2D at 0x225b9501f30>]"
      ]
     },
     "execution_count": 77,
     "metadata": {},
     "output_type": "execute_result"
    },
    {
     "data": {
      "image/png": "[encoded data removed]",
      "text/plain": [
       "<Figure size 640x480 with 1 Axes>"
      ]
     },
     "metadata": {},
     "output_type": "display_data"
    }
   ],
   "source": [
    "plt.plot(y_pred)\n",
    "plt.plot(y_test)"
   ]
  },
  {
   "cell_type": "code",
   "execution_count": 79,
   "id": "e5f81b85",
   "metadata": {},
   "outputs": [
    {
     "data": {
      "text/plain": [
       "<matplotlib.collections.PathCollection at 0x225b97532b0>"
      ]
     },
     "execution_count": 79,
     "metadata": {},
     "output_type": "execute_result"
    },
    {
     "data": {
      "image/png": "[encoded data removed]",
      "text/plain": [
       "<Figure size 640x480 with 1 Axes>"
      ]
     },
     "metadata": {},
     "output_type": "display_data"
    }
   ],
   "source": [
    "plt.scatter(y_pred, y_test)\n",
    "plt.scatter(y_test, y_pred, edgecolors = 'r')"
   ]
  },
  {
   "cell_type": "code",
   "execution_count": null,
   "id": "b99a13ea",
   "metadata": {},
   "outputs": [],
   "source": []
  },
  {
   "cell_type": "code",
   "execution_count": null,
   "id": "53068271",
   "metadata": {},
   "outputs": [],
   "source": []
  },
  {
   "cell_type": "code",
   "execution_count": null,
   "id": "d3172df0",
   "metadata": {},
   "outputs": [],
   "source": []
  },
  {
   "cell_type": "code",
   "execution_count": null,
   "id": "fcd698f8",
   "metadata": {},
   "outputs": [],
   "source": []
  },
  {
   "cell_type": "code",
   "execution_count": null,
   "id": "282775d0",
   "metadata": {},
   "outputs": [],
   "source": []
  },
  {
   "cell_type": "code",
   "execution_count": null,
   "id": "f8dfdefe",
   "metadata": {},
   "outputs": [],
   "source": []
  },
  {
   "cell_type": "code",
   "execution_count": null,
   "id": "6db3b2c1",
   "metadata": {},
   "outputs": [],
   "source": []
  },
  {
   "cell_type": "code",
   "execution_count": null,
   "id": "3b69d2ce",
   "metadata": {},
   "outputs": [],
   "source": []
  },
  {
   "cell_type": "code",
   "execution_count": null,
   "id": "f048d581",
   "metadata": {},
   "outputs": [],
   "source": []
  }
 ],
 "metadata": {
  "kernelspec": {
   "display_name": "tfenv",
   "language": "python",
   "name": "python3"
  },
  "language_info": {
   "codemirror_mode": {
    "name": "ipython",
    "version": 3
   },
   "file_extension": ".py",
   "mimetype": "text/x-python",
   "name": "python",
   "nbconvert_exporter": "python",
   "pygments_lexer": "ipython3",
   "version": "3.10.18"
  }
 },
 "nbformat": 4,
 "nbformat_minor": 5
}
