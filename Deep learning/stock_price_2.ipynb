{
 "cells": [
  {
   "cell_type": "markdown",
   "id": "37602fcf",
   "metadata": {},
   "source": [
    "## Tesla stock price analysis"
   ]
  },
  {
   "cell_type": "code",
   "execution_count": 2,
   "id": "714b8142",
   "metadata": {},
   "outputs": [],
   "source": [
    "import pandas as pd\n",
    "import numpy as np\n",
    "import matplotlib.pyplot as plt\n",
    "%matplotlib inline\n",
    "import os\n",
    "from dotenv import load_dotenv\n",
    "import pandas_datareader as pdr"
   ]
  },
  {
   "cell_type": "markdown",
   "id": "c6f0bbdf",
   "metadata": {},
   "source": [
    "### loading the data"
   ]
  },
  {
   "cell_type": "code",
   "execution_count": null,
   "id": "54bd5039",
   "metadata": {},
   "outputs": [],
   "source": [
    "load_dotenv('.txt')\n",
    "key = os.getenv('key')"
   ]
  },
  {
   "cell_type": "code",
   "execution_count": 19,
   "id": "fc119a62",
   "metadata": {},
   "outputs": [
    {
     "name": "stderr",
     "output_type": "stream",
     "text": [
      "C:\\Users\\lenovo\\AppData\\Local\\Temp\\ipykernel_24512\\2827723293.py:1: FutureWarning: In a future version of pandas all arguments of concat except for the argument 'objs' will be keyword-only.\n",
      "  data = pdr.get_data_tiingo('TSLA', api_key = key)\n"
     ]
    },
    {
     "data": {
      "text/html": [
       "<div>\n",
       "<style scoped>\n",
       "    .dataframe tbody tr th:only-of-type {\n",
       "        vertical-align: middle;\n",
       "    }\n",
       "\n",
       "    .dataframe tbody tr th {\n",
       "        vertical-align: top;\n",
       "    }\n",
       "\n",
       "    .dataframe thead th {\n",
       "        text-align: right;\n",
       "    }\n",
       "</style>\n",
       "<table border=\"1\" class=\"dataframe\">\n",
       "  <thead>\n",
       "    <tr style=\"text-align: right;\">\n",
       "      <th></th>\n",
       "      <th></th>\n",
       "      <th>close</th>\n",
       "      <th>high</th>\n",
       "      <th>low</th>\n",
       "      <th>open</th>\n",
       "      <th>volume</th>\n",
       "      <th>adjClose</th>\n",
       "      <th>adjHigh</th>\n",
       "      <th>adjLow</th>\n",
       "      <th>adjOpen</th>\n",
       "      <th>adjVolume</th>\n",
       "      <th>divCash</th>\n",
       "      <th>splitFactor</th>\n",
       "    </tr>\n",
       "    <tr>\n",
       "      <th>symbol</th>\n",
       "      <th>date</th>\n",
       "      <th></th>\n",
       "      <th></th>\n",
       "      <th></th>\n",
       "      <th></th>\n",
       "      <th></th>\n",
       "      <th></th>\n",
       "      <th></th>\n",
       "      <th></th>\n",
       "      <th></th>\n",
       "      <th></th>\n",
       "      <th></th>\n",
       "      <th></th>\n",
       "    </tr>\n",
       "  </thead>\n",
       "  <tbody>\n",
       "    <tr>\n",
       "      <th rowspan=\"11\" valign=\"top\">TSLA</th>\n",
       "      <th>2020-09-28 00:00:00+00:00</th>\n",
       "      <td>421.20</td>\n",
       "      <td>428.08</td>\n",
       "      <td>415.5500</td>\n",
       "      <td>424.62</td>\n",
       "      <td>49719561</td>\n",
       "      <td>140.400000</td>\n",
       "      <td>142.693333</td>\n",
       "      <td>138.516667</td>\n",
       "      <td>141.540000</td>\n",
       "      <td>149158683</td>\n",
       "      <td>0.0</td>\n",
       "      <td>1.0</td>\n",
       "    </tr>\n",
       "    <tr>\n",
       "      <th>2020-09-29 00:00:00+00:00</th>\n",
       "      <td>419.07</td>\n",
       "      <td>428.50</td>\n",
       "      <td>411.6000</td>\n",
       "      <td>416.00</td>\n",
       "      <td>50341404</td>\n",
       "      <td>139.690000</td>\n",
       "      <td>142.833333</td>\n",
       "      <td>137.200000</td>\n",
       "      <td>138.666667</td>\n",
       "      <td>151024212</td>\n",
       "      <td>0.0</td>\n",
       "      <td>1.0</td>\n",
       "    </tr>\n",
       "    <tr>\n",
       "      <th>2020-09-30 00:00:00+00:00</th>\n",
       "      <td>429.01</td>\n",
       "      <td>433.93</td>\n",
       "      <td>420.4700</td>\n",
       "      <td>421.32</td>\n",
       "      <td>48145566</td>\n",
       "      <td>143.003333</td>\n",
       "      <td>144.643333</td>\n",
       "      <td>140.156667</td>\n",
       "      <td>140.440000</td>\n",
       "      <td>144436698</td>\n",
       "      <td>0.0</td>\n",
       "      <td>1.0</td>\n",
       "    </tr>\n",
       "    <tr>\n",
       "      <th>2020-10-01 00:00:00+00:00</th>\n",
       "      <td>448.16</td>\n",
       "      <td>448.88</td>\n",
       "      <td>434.4200</td>\n",
       "      <td>440.76</td>\n",
       "      <td>50741454</td>\n",
       "      <td>149.386667</td>\n",
       "      <td>149.626667</td>\n",
       "      <td>144.806667</td>\n",
       "      <td>146.920000</td>\n",
       "      <td>152224362</td>\n",
       "      <td>0.0</td>\n",
       "      <td>1.0</td>\n",
       "    </tr>\n",
       "    <tr>\n",
       "      <th>2020-10-02 00:00:00+00:00</th>\n",
       "      <td>415.09</td>\n",
       "      <td>439.13</td>\n",
       "      <td>415.0000</td>\n",
       "      <td>421.39</td>\n",
       "      <td>71430025</td>\n",
       "      <td>138.363333</td>\n",
       "      <td>146.376667</td>\n",
       "      <td>138.333333</td>\n",
       "      <td>140.463333</td>\n",
       "      <td>214290075</td>\n",
       "      <td>0.0</td>\n",
       "      <td>1.0</td>\n",
       "    </tr>\n",
       "    <tr>\n",
       "      <th>...</th>\n",
       "      <td>...</td>\n",
       "      <td>...</td>\n",
       "      <td>...</td>\n",
       "      <td>...</td>\n",
       "      <td>...</td>\n",
       "      <td>...</td>\n",
       "      <td>...</td>\n",
       "      <td>...</td>\n",
       "      <td>...</td>\n",
       "      <td>...</td>\n",
       "      <td>...</td>\n",
       "      <td>...</td>\n",
       "    </tr>\n",
       "    <tr>\n",
       "      <th>2025-09-19 00:00:00+00:00</th>\n",
       "      <td>426.07</td>\n",
       "      <td>429.47</td>\n",
       "      <td>421.7200</td>\n",
       "      <td>421.82</td>\n",
       "      <td>93131034</td>\n",
       "      <td>426.070000</td>\n",
       "      <td>429.470000</td>\n",
       "      <td>421.720000</td>\n",
       "      <td>421.820000</td>\n",
       "      <td>93131034</td>\n",
       "      <td>0.0</td>\n",
       "      <td>1.0</td>\n",
       "    </tr>\n",
       "    <tr>\n",
       "      <th>2025-09-22 00:00:00+00:00</th>\n",
       "      <td>434.21</td>\n",
       "      <td>444.98</td>\n",
       "      <td>429.1300</td>\n",
       "      <td>431.11</td>\n",
       "      <td>97108777</td>\n",
       "      <td>434.210000</td>\n",
       "      <td>444.980000</td>\n",
       "      <td>429.130000</td>\n",
       "      <td>431.110000</td>\n",
       "      <td>97108777</td>\n",
       "      <td>0.0</td>\n",
       "      <td>1.0</td>\n",
       "    </tr>\n",
       "    <tr>\n",
       "      <th>2025-09-23 00:00:00+00:00</th>\n",
       "      <td>425.85</td>\n",
       "      <td>440.97</td>\n",
       "      <td>423.7200</td>\n",
       "      <td>439.88</td>\n",
       "      <td>83422691</td>\n",
       "      <td>425.850000</td>\n",
       "      <td>440.970000</td>\n",
       "      <td>423.720000</td>\n",
       "      <td>439.880000</td>\n",
       "      <td>83422691</td>\n",
       "      <td>0.0</td>\n",
       "      <td>1.0</td>\n",
       "    </tr>\n",
       "    <tr>\n",
       "      <th>2025-09-24 00:00:00+00:00</th>\n",
       "      <td>442.79</td>\n",
       "      <td>444.21</td>\n",
       "      <td>429.0301</td>\n",
       "      <td>429.83</td>\n",
       "      <td>93133570</td>\n",
       "      <td>442.790000</td>\n",
       "      <td>444.210000</td>\n",
       "      <td>429.030100</td>\n",
       "      <td>429.830000</td>\n",
       "      <td>93133570</td>\n",
       "      <td>0.0</td>\n",
       "      <td>1.0</td>\n",
       "    </tr>\n",
       "    <tr>\n",
       "      <th>2025-09-25 00:00:00+00:00</th>\n",
       "      <td>423.39</td>\n",
       "      <td>435.35</td>\n",
       "      <td>419.0800</td>\n",
       "      <td>435.24</td>\n",
       "      <td>95857388</td>\n",
       "      <td>423.390000</td>\n",
       "      <td>435.350000</td>\n",
       "      <td>419.080000</td>\n",
       "      <td>435.240000</td>\n",
       "      <td>95857388</td>\n",
       "      <td>0.0</td>\n",
       "      <td>1.0</td>\n",
       "    </tr>\n",
       "  </tbody>\n",
       "</table>\n",
       "<p>1255 rows × 12 columns</p>\n",
       "</div>"
      ],
      "text/plain": [
       "                                   close    high       low    open    volume  \\\n",
       "symbol date                                                                    \n",
       "TSLA   2020-09-28 00:00:00+00:00  421.20  428.08  415.5500  424.62  49719561   \n",
       "       2020-09-29 00:00:00+00:00  419.07  428.50  411.6000  416.00  50341404   \n",
       "       2020-09-30 00:00:00+00:00  429.01  433.93  420.4700  421.32  48145566   \n",
       "       2020-10-01 00:00:00+00:00  448.16  448.88  434.4200  440.76  50741454   \n",
       "       2020-10-02 00:00:00+00:00  415.09  439.13  415.0000  421.39  71430025   \n",
       "...                                  ...     ...       ...     ...       ...   \n",
       "       2025-09-19 00:00:00+00:00  426.07  429.47  421.7200  421.82  93131034   \n",
       "       2025-09-22 00:00:00+00:00  434.21  444.98  429.1300  431.11  97108777   \n",
       "       2025-09-23 00:00:00+00:00  425.85  440.97  423.7200  439.88  83422691   \n",
       "       2025-09-24 00:00:00+00:00  442.79  444.21  429.0301  429.83  93133570   \n",
       "       2025-09-25 00:00:00+00:00  423.39  435.35  419.0800  435.24  95857388   \n",
       "\n",
       "                                    adjClose     adjHigh      adjLow  \\\n",
       "symbol date                                                            \n",
       "TSLA   2020-09-28 00:00:00+00:00  140.400000  142.693333  138.516667   \n",
       "       2020-09-29 00:00:00+00:00  139.690000  142.833333  137.200000   \n",
       "       2020-09-30 00:00:00+00:00  143.003333  144.643333  140.156667   \n",
       "       2020-10-01 00:00:00+00:00  149.386667  149.626667  144.806667   \n",
       "       2020-10-02 00:00:00+00:00  138.363333  146.376667  138.333333   \n",
       "...                                      ...         ...         ...   \n",
       "       2025-09-19 00:00:00+00:00  426.070000  429.470000  421.720000   \n",
       "       2025-09-22 00:00:00+00:00  434.210000  444.980000  429.130000   \n",
       "       2025-09-23 00:00:00+00:00  425.850000  440.970000  423.720000   \n",
       "       2025-09-24 00:00:00+00:00  442.790000  444.210000  429.030100   \n",
       "       2025-09-25 00:00:00+00:00  423.390000  435.350000  419.080000   \n",
       "\n",
       "                                     adjOpen  adjVolume  divCash  splitFactor  \n",
       "symbol date                                                                    \n",
       "TSLA   2020-09-28 00:00:00+00:00  141.540000  149158683      0.0          1.0  \n",
       "       2020-09-29 00:00:00+00:00  138.666667  151024212      0.0          1.0  \n",
       "       2020-09-30 00:00:00+00:00  140.440000  144436698      0.0          1.0  \n",
       "       2020-10-01 00:00:00+00:00  146.920000  152224362      0.0          1.0  \n",
       "       2020-10-02 00:00:00+00:00  140.463333  214290075      0.0          1.0  \n",
       "...                                      ...        ...      ...          ...  \n",
       "       2025-09-19 00:00:00+00:00  421.820000   93131034      0.0          1.0  \n",
       "       2025-09-22 00:00:00+00:00  431.110000   97108777      0.0          1.0  \n",
       "       2025-09-23 00:00:00+00:00  439.880000   83422691      0.0          1.0  \n",
       "       2025-09-24 00:00:00+00:00  429.830000   93133570      0.0          1.0  \n",
       "       2025-09-25 00:00:00+00:00  435.240000   95857388      0.0          1.0  \n",
       "\n",
       "[1255 rows x 12 columns]"
      ]
     },
     "execution_count": 19,
     "metadata": {},
     "output_type": "execute_result"
    }
   ],
   "source": [
    "data = pdr.get_data_tiingo('TSLA', api_key = key)\n",
    "data"
   ]
  },
  {
   "cell_type": "code",
   "execution_count": 20,
   "id": "6a6f2341",
   "metadata": {},
   "outputs": [],
   "source": [
    "data = data.to_csv('TSLA.csv')"
   ]
  },
  {
   "cell_type": "code",
   "execution_count": 21,
   "id": "5d853548",
   "metadata": {},
   "outputs": [
    {
     "data": {
      "text/html": [
       "<div>\n",
       "<style scoped>\n",
       "    .dataframe tbody tr th:only-of-type {\n",
       "        vertical-align: middle;\n",
       "    }\n",
       "\n",
       "    .dataframe tbody tr th {\n",
       "        vertical-align: top;\n",
       "    }\n",
       "\n",
       "    .dataframe thead th {\n",
       "        text-align: right;\n",
       "    }\n",
       "</style>\n",
       "<table border=\"1\" class=\"dataframe\">\n",
       "  <thead>\n",
       "    <tr style=\"text-align: right;\">\n",
       "      <th></th>\n",
       "      <th>symbol</th>\n",
       "      <th>date</th>\n",
       "      <th>close</th>\n",
       "      <th>high</th>\n",
       "      <th>low</th>\n",
       "      <th>open</th>\n",
       "      <th>volume</th>\n",
       "      <th>adjClose</th>\n",
       "      <th>adjHigh</th>\n",
       "      <th>adjLow</th>\n",
       "      <th>adjOpen</th>\n",
       "      <th>adjVolume</th>\n",
       "      <th>divCash</th>\n",
       "      <th>splitFactor</th>\n",
       "    </tr>\n",
       "  </thead>\n",
       "  <tbody>\n",
       "    <tr>\n",
       "      <th>0</th>\n",
       "      <td>TSLA</td>\n",
       "      <td>2020-09-28 00:00:00+00:00</td>\n",
       "      <td>421.20</td>\n",
       "      <td>428.08</td>\n",
       "      <td>415.5500</td>\n",
       "      <td>424.62</td>\n",
       "      <td>49719561</td>\n",
       "      <td>140.400000</td>\n",
       "      <td>142.693333</td>\n",
       "      <td>138.516667</td>\n",
       "      <td>141.540000</td>\n",
       "      <td>149158683</td>\n",
       "      <td>0.0</td>\n",
       "      <td>1.0</td>\n",
       "    </tr>\n",
       "    <tr>\n",
       "      <th>1</th>\n",
       "      <td>TSLA</td>\n",
       "      <td>2020-09-29 00:00:00+00:00</td>\n",
       "      <td>419.07</td>\n",
       "      <td>428.50</td>\n",
       "      <td>411.6000</td>\n",
       "      <td>416.00</td>\n",
       "      <td>50341404</td>\n",
       "      <td>139.690000</td>\n",
       "      <td>142.833333</td>\n",
       "      <td>137.200000</td>\n",
       "      <td>138.666667</td>\n",
       "      <td>151024212</td>\n",
       "      <td>0.0</td>\n",
       "      <td>1.0</td>\n",
       "    </tr>\n",
       "    <tr>\n",
       "      <th>2</th>\n",
       "      <td>TSLA</td>\n",
       "      <td>2020-09-30 00:00:00+00:00</td>\n",
       "      <td>429.01</td>\n",
       "      <td>433.93</td>\n",
       "      <td>420.4700</td>\n",
       "      <td>421.32</td>\n",
       "      <td>48145566</td>\n",
       "      <td>143.003333</td>\n",
       "      <td>144.643333</td>\n",
       "      <td>140.156667</td>\n",
       "      <td>140.440000</td>\n",
       "      <td>144436698</td>\n",
       "      <td>0.0</td>\n",
       "      <td>1.0</td>\n",
       "    </tr>\n",
       "    <tr>\n",
       "      <th>3</th>\n",
       "      <td>TSLA</td>\n",
       "      <td>2020-10-01 00:00:00+00:00</td>\n",
       "      <td>448.16</td>\n",
       "      <td>448.88</td>\n",
       "      <td>434.4200</td>\n",
       "      <td>440.76</td>\n",
       "      <td>50741454</td>\n",
       "      <td>149.386667</td>\n",
       "      <td>149.626667</td>\n",
       "      <td>144.806667</td>\n",
       "      <td>146.920000</td>\n",
       "      <td>152224362</td>\n",
       "      <td>0.0</td>\n",
       "      <td>1.0</td>\n",
       "    </tr>\n",
       "    <tr>\n",
       "      <th>4</th>\n",
       "      <td>TSLA</td>\n",
       "      <td>2020-10-02 00:00:00+00:00</td>\n",
       "      <td>415.09</td>\n",
       "      <td>439.13</td>\n",
       "      <td>415.0000</td>\n",
       "      <td>421.39</td>\n",
       "      <td>71430025</td>\n",
       "      <td>138.363333</td>\n",
       "      <td>146.376667</td>\n",
       "      <td>138.333333</td>\n",
       "      <td>140.463333</td>\n",
       "      <td>214290075</td>\n",
       "      <td>0.0</td>\n",
       "      <td>1.0</td>\n",
       "    </tr>\n",
       "    <tr>\n",
       "      <th>...</th>\n",
       "      <td>...</td>\n",
       "      <td>...</td>\n",
       "      <td>...</td>\n",
       "      <td>...</td>\n",
       "      <td>...</td>\n",
       "      <td>...</td>\n",
       "      <td>...</td>\n",
       "      <td>...</td>\n",
       "      <td>...</td>\n",
       "      <td>...</td>\n",
       "      <td>...</td>\n",
       "      <td>...</td>\n",
       "      <td>...</td>\n",
       "      <td>...</td>\n",
       "    </tr>\n",
       "    <tr>\n",
       "      <th>1250</th>\n",
       "      <td>TSLA</td>\n",
       "      <td>2025-09-19 00:00:00+00:00</td>\n",
       "      <td>426.07</td>\n",
       "      <td>429.47</td>\n",
       "      <td>421.7200</td>\n",
       "      <td>421.82</td>\n",
       "      <td>93131034</td>\n",
       "      <td>426.070000</td>\n",
       "      <td>429.470000</td>\n",
       "      <td>421.720000</td>\n",
       "      <td>421.820000</td>\n",
       "      <td>93131034</td>\n",
       "      <td>0.0</td>\n",
       "      <td>1.0</td>\n",
       "    </tr>\n",
       "    <tr>\n",
       "      <th>1251</th>\n",
       "      <td>TSLA</td>\n",
       "      <td>2025-09-22 00:00:00+00:00</td>\n",
       "      <td>434.21</td>\n",
       "      <td>444.98</td>\n",
       "      <td>429.1300</td>\n",
       "      <td>431.11</td>\n",
       "      <td>97108777</td>\n",
       "      <td>434.210000</td>\n",
       "      <td>444.980000</td>\n",
       "      <td>429.130000</td>\n",
       "      <td>431.110000</td>\n",
       "      <td>97108777</td>\n",
       "      <td>0.0</td>\n",
       "      <td>1.0</td>\n",
       "    </tr>\n",
       "    <tr>\n",
       "      <th>1252</th>\n",
       "      <td>TSLA</td>\n",
       "      <td>2025-09-23 00:00:00+00:00</td>\n",
       "      <td>425.85</td>\n",
       "      <td>440.97</td>\n",
       "      <td>423.7200</td>\n",
       "      <td>439.88</td>\n",
       "      <td>83422691</td>\n",
       "      <td>425.850000</td>\n",
       "      <td>440.970000</td>\n",
       "      <td>423.720000</td>\n",
       "      <td>439.880000</td>\n",
       "      <td>83422691</td>\n",
       "      <td>0.0</td>\n",
       "      <td>1.0</td>\n",
       "    </tr>\n",
       "    <tr>\n",
       "      <th>1253</th>\n",
       "      <td>TSLA</td>\n",
       "      <td>2025-09-24 00:00:00+00:00</td>\n",
       "      <td>442.79</td>\n",
       "      <td>444.21</td>\n",
       "      <td>429.0301</td>\n",
       "      <td>429.83</td>\n",
       "      <td>93133570</td>\n",
       "      <td>442.790000</td>\n",
       "      <td>444.210000</td>\n",
       "      <td>429.030100</td>\n",
       "      <td>429.830000</td>\n",
       "      <td>93133570</td>\n",
       "      <td>0.0</td>\n",
       "      <td>1.0</td>\n",
       "    </tr>\n",
       "    <tr>\n",
       "      <th>1254</th>\n",
       "      <td>TSLA</td>\n",
       "      <td>2025-09-25 00:00:00+00:00</td>\n",
       "      <td>423.39</td>\n",
       "      <td>435.35</td>\n",
       "      <td>419.0800</td>\n",
       "      <td>435.24</td>\n",
       "      <td>95857388</td>\n",
       "      <td>423.390000</td>\n",
       "      <td>435.350000</td>\n",
       "      <td>419.080000</td>\n",
       "      <td>435.240000</td>\n",
       "      <td>95857388</td>\n",
       "      <td>0.0</td>\n",
       "      <td>1.0</td>\n",
       "    </tr>\n",
       "  </tbody>\n",
       "</table>\n",
       "<p>1255 rows × 14 columns</p>\n",
       "</div>"
      ],
      "text/plain": [
       "     symbol                       date   close    high       low    open  \\\n",
       "0      TSLA  2020-09-28 00:00:00+00:00  421.20  428.08  415.5500  424.62   \n",
       "1      TSLA  2020-09-29 00:00:00+00:00  419.07  428.50  411.6000  416.00   \n",
       "2      TSLA  2020-09-30 00:00:00+00:00  429.01  433.93  420.4700  421.32   \n",
       "3      TSLA  2020-10-01 00:00:00+00:00  448.16  448.88  434.4200  440.76   \n",
       "4      TSLA  2020-10-02 00:00:00+00:00  415.09  439.13  415.0000  421.39   \n",
       "...     ...                        ...     ...     ...       ...     ...   \n",
       "1250   TSLA  2025-09-19 00:00:00+00:00  426.07  429.47  421.7200  421.82   \n",
       "1251   TSLA  2025-09-22 00:00:00+00:00  434.21  444.98  429.1300  431.11   \n",
       "1252   TSLA  2025-09-23 00:00:00+00:00  425.85  440.97  423.7200  439.88   \n",
       "1253   TSLA  2025-09-24 00:00:00+00:00  442.79  444.21  429.0301  429.83   \n",
       "1254   TSLA  2025-09-25 00:00:00+00:00  423.39  435.35  419.0800  435.24   \n",
       "\n",
       "        volume    adjClose     adjHigh      adjLow     adjOpen  adjVolume  \\\n",
       "0     49719561  140.400000  142.693333  138.516667  141.540000  149158683   \n",
       "1     50341404  139.690000  142.833333  137.200000  138.666667  151024212   \n",
       "2     48145566  143.003333  144.643333  140.156667  140.440000  144436698   \n",
       "3     50741454  149.386667  149.626667  144.806667  146.920000  152224362   \n",
       "4     71430025  138.363333  146.376667  138.333333  140.463333  214290075   \n",
       "...        ...         ...         ...         ...         ...        ...   \n",
       "1250  93131034  426.070000  429.470000  421.720000  421.820000   93131034   \n",
       "1251  97108777  434.210000  444.980000  429.130000  431.110000   97108777   \n",
       "1252  83422691  425.850000  440.970000  423.720000  439.880000   83422691   \n",
       "1253  93133570  442.790000  444.210000  429.030100  429.830000   93133570   \n",
       "1254  95857388  423.390000  435.350000  419.080000  435.240000   95857388   \n",
       "\n",
       "      divCash  splitFactor  \n",
       "0         0.0          1.0  \n",
       "1         0.0          1.0  \n",
       "2         0.0          1.0  \n",
       "3         0.0          1.0  \n",
       "4         0.0          1.0  \n",
       "...       ...          ...  \n",
       "1250      0.0          1.0  \n",
       "1251      0.0          1.0  \n",
       "1252      0.0          1.0  \n",
       "1253      0.0          1.0  \n",
       "1254      0.0          1.0  \n",
       "\n",
       "[1255 rows x 14 columns]"
      ]
     },
     "execution_count": 21,
     "metadata": {},
     "output_type": "execute_result"
    }
   ],
   "source": [
    "data = pd.read_csv('TSLA.csv')\n",
    "data"
   ]
  },
  {
   "cell_type": "code",
   "execution_count": 22,
   "id": "c47deeca",
   "metadata": {},
   "outputs": [],
   "source": [
    "df = data[['close']].values"
   ]
  },
  {
   "cell_type": "code",
   "execution_count": 23,
   "id": "e2c3d18a",
   "metadata": {},
   "outputs": [
    {
     "data": {
      "text/plain": [
       "array([[421.2 ],\n",
       "       [419.07],\n",
       "       [429.01],\n",
       "       ...,\n",
       "       [425.85],\n",
       "       [442.79],\n",
       "       [423.39]])"
      ]
     },
     "execution_count": 23,
     "metadata": {},
     "output_type": "execute_result"
    }
   ],
   "source": [
    "df"
   ]
  },
  {
   "cell_type": "markdown",
   "id": "d4abb462",
   "metadata": {},
   "source": [
    "### applying the minmax scaler"
   ]
  },
  {
   "cell_type": "code",
   "execution_count": 25,
   "id": "0fc8f2bc",
   "metadata": {},
   "outputs": [],
   "source": [
    "from sklearn.preprocessing import MinMaxScaler\n",
    "scaler = MinMaxScaler(feature_range = (0, 1))\n",
    "df = scaler.fit_transform(df)"
   ]
  },
  {
   "cell_type": "code",
   "execution_count": 26,
   "id": "06d74a23",
   "metadata": {},
   "outputs": [
    {
     "data": {
      "text/plain": [
       "array([[0.27910252],\n",
       "       [0.2772038 ],\n",
       "       [0.28606449],\n",
       "       ...,\n",
       "       [0.28324761],\n",
       "       [0.29834821],\n",
       "       [0.28105472]])"
      ]
     },
     "execution_count": 26,
     "metadata": {},
     "output_type": "execute_result"
    }
   ],
   "source": [
    "df"
   ]
  },
  {
   "cell_type": "markdown",
   "id": "5ae188f6",
   "metadata": {},
   "source": [
    "### creating the datasets"
   ]
  },
  {
   "cell_type": "code",
   "execution_count": 27,
   "id": "01f70b1f",
   "metadata": {},
   "outputs": [],
   "source": [
    "days = 90\n",
    "\n",
    "def create_dataset(df, days = 90) : \n",
    "    X, y = [], []\n",
    "\n",
    "    for i in range(len(df) - days) : \n",
    "        X.append(df[i : i + days, 0])\n",
    "        y.append(df[i + days, 0])\n",
    "\n",
    "    return np.array(X), np.array(y)"
   ]
  },
  {
   "cell_type": "code",
   "execution_count": 28,
   "id": "850f4a26",
   "metadata": {},
   "outputs": [],
   "source": [
    "X, y = create_dataset(df, days = 90)"
   ]
  },
  {
   "cell_type": "code",
   "execution_count": 29,
   "id": "1ce7614c",
   "metadata": {},
   "outputs": [
    {
     "data": {
      "text/plain": [
       "array([[0.27910252, 0.2772038 , 0.28606449, ..., 0.68165732, 0.66552268,\n",
       "        0.66133302],\n",
       "       [0.2772038 , 0.28606449, 0.30313511, ..., 0.66552268, 0.66133302,\n",
       "        0.6633298 ],\n",
       "       [0.28606449, 0.30313511, 0.27365597, ..., 0.66133302, 0.6633298 ,\n",
       "        0.67330475],\n",
       "       ...,\n",
       "       [0.21356558, 0.20923329, 0.21561584, ..., 0.27522486, 0.28344372,\n",
       "        0.29069985],\n",
       "       [0.20923329, 0.21561584, 0.20858256, ..., 0.28344372, 0.29069985,\n",
       "        0.28324761],\n",
       "       [0.21561584, 0.20858256, 0.21012471, ..., 0.29069985, 0.28324761,\n",
       "        0.29834821]])"
      ]
     },
     "execution_count": 29,
     "metadata": {},
     "output_type": "execute_result"
    }
   ],
   "source": [
    "X"
   ]
  },
  {
   "cell_type": "code",
   "execution_count": 30,
   "id": "a06d8a00",
   "metadata": {},
   "outputs": [
    {
     "data": {
      "text/plain": [
       "array([0.6633298 , 0.67330475, 0.66086057, ..., 0.28324761, 0.29834821,\n",
       "       0.28105472])"
      ]
     },
     "execution_count": 30,
     "metadata": {},
     "output_type": "execute_result"
    }
   ],
   "source": [
    "y"
   ]
  },
  {
   "cell_type": "markdown",
   "id": "a2e3be61",
   "metadata": {},
   "source": [
    "### reshaping the X"
   ]
  },
  {
   "cell_type": "code",
   "execution_count": 31,
   "id": "7115ed67",
   "metadata": {},
   "outputs": [],
   "source": [
    "X = X.reshape(X.shape[0], X.shape[1], 1)"
   ]
  },
  {
   "cell_type": "code",
   "execution_count": 32,
   "id": "b53a6c80",
   "metadata": {},
   "outputs": [
    {
     "name": "stdout",
     "output_type": "stream",
     "text": [
      "(1165, 90, 1) :: (1165,)\n"
     ]
    }
   ],
   "source": [
    "print(f\"{X.shape} :: {y.shape}\")"
   ]
  },
  {
   "cell_type": "markdown",
   "id": "e49ab820",
   "metadata": {},
   "source": [
    "### train and test data"
   ]
  },
  {
   "cell_type": "code",
   "execution_count": 33,
   "id": "fda9b0b9",
   "metadata": {},
   "outputs": [],
   "source": [
    "test_size = int(len(df) * 0.80)\n",
    "X_train, X_test = X[:test_size], X[test_size:]\n",
    "y_train, y_test = y[:test_size], y[test_size:]"
   ]
  },
  {
   "cell_type": "code",
   "execution_count": 34,
   "id": "f707f856",
   "metadata": {},
   "outputs": [
    {
     "name": "stdout",
     "output_type": "stream",
     "text": [
      "(1004, 90, 1) :: (161, 90, 1) :: (1004,) :: (161,)\n"
     ]
    }
   ],
   "source": [
    "print(f\"{X_train.shape} :: {X_test.shape} :: {y_train.shape} :: {y_test.shape}\")"
   ]
  },
  {
   "cell_type": "markdown",
   "id": "6a6f586d",
   "metadata": {},
   "source": [
    "### creating the model"
   ]
  },
  {
   "cell_type": "code",
   "execution_count": 35,
   "id": "686789a2",
   "metadata": {},
   "outputs": [],
   "source": [
    "import tensorflow\n",
    "from tensorflow.keras.models import Sequential\n",
    "from tensorflow.keras.layers import Dense, LSTM, Bidirectional, Dropout"
   ]
  },
  {
   "cell_type": "code",
   "execution_count": 39,
   "id": "a5a845c1",
   "metadata": {},
   "outputs": [],
   "source": [
    "model = Sequential()"
   ]
  },
  {
   "cell_type": "code",
   "execution_count": 40,
   "id": "18103618",
   "metadata": {},
   "outputs": [],
   "source": [
    "model.add(LSTM(50, return_sequences = True, input_shape = (days, 1)))\n",
    "model.add(Dropout(0.33))\n",
    "model.add(Bidirectional(LSTM(100)))\n",
    "model.add(Dropout(0.33))\n",
    "model.add(Dense(1, activation = 'linear'))\n",
    "model.compile(optimizer = 'adam', loss = 'mean_squared_error', metrics = ['mse'])"
   ]
  },
  {
   "cell_type": "code",
   "execution_count": 41,
   "id": "ee7c644b",
   "metadata": {},
   "outputs": [
    {
     "name": "stdout",
     "output_type": "stream",
     "text": [
      "Model: \"sequential_1\"\n",
      "_________________________________________________________________\n",
      " Layer (type)                Output Shape              Param #   \n",
      "=================================================================\n",
      " lstm_4 (LSTM)               (None, 90, 50)            10400     \n",
      "                                                                 \n",
      " dropout_2 (Dropout)         (None, 90, 50)            0         \n",
      "                                                                 \n",
      " bidirectional_2 (Bidirectio  (None, 200)              120800    \n",
      " nal)                                                            \n",
      "                                                                 \n",
      " dropout_3 (Dropout)         (None, 200)               0         \n",
      "                                                                 \n",
      " dense (Dense)               (None, 1)                 201       \n",
      "                                                                 \n",
      "=================================================================\n",
      "Total params: 131,401\n",
      "Trainable params: 131,401\n",
      "Non-trainable params: 0\n",
      "_________________________________________________________________\n"
     ]
    }
   ],
   "source": [
    "model.summary()"
   ]
  },
  {
   "cell_type": "markdown",
   "id": "96b2bde5",
   "metadata": {},
   "source": [
    "### training the model and observing the trend"
   ]
  },
  {
   "cell_type": "code",
   "execution_count": 43,
   "id": "812db303",
   "metadata": {},
   "outputs": [
    {
     "name": "stdout",
     "output_type": "stream",
     "text": [
      "Epoch 1/10\n",
      "32/32 [==============================] - 2s 72ms/step - loss: 0.0025 - mse: 0.0025\n",
      "Epoch 2/10\n",
      "32/32 [==============================] - 2s 72ms/step - loss: 0.0025 - mse: 0.0025\n",
      "Epoch 3/10\n",
      "32/32 [==============================] - 2s 74ms/step - loss: 0.0020 - mse: 0.0020\n",
      "Epoch 4/10\n",
      "32/32 [==============================] - 2s 75ms/step - loss: 0.0022 - mse: 0.0022\n",
      "Epoch 5/10\n",
      "32/32 [==============================] - 2s 74ms/step - loss: 0.0024 - mse: 0.0024\n",
      "Epoch 6/10\n",
      "32/32 [==============================] - 2s 73ms/step - loss: 0.0024 - mse: 0.0024\n",
      "Epoch 7/10\n",
      "32/32 [==============================] - 2s 73ms/step - loss: 0.0021 - mse: 0.0021\n",
      "Epoch 8/10\n",
      "32/32 [==============================] - 2s 75ms/step - loss: 0.0024 - mse: 0.0024\n",
      "Epoch 9/10\n",
      "32/32 [==============================] - 2s 78ms/step - loss: 0.0022 - mse: 0.0022\n",
      "Epoch 10/10\n",
      "32/32 [==============================] - 2s 74ms/step - loss: 0.0022 - mse: 0.0022\n"
     ]
    },
    {
     "data": {
      "text/plain": [
       "<keras.callbacks.History at 0x2a36366ed40>"
      ]
     },
     "execution_count": 43,
     "metadata": {},
     "output_type": "execute_result"
    }
   ],
   "source": [
    "model.fit(X_train, y_train, batch_size = 32, epochs = 10, verbose = 1)"
   ]
  },
  {
   "cell_type": "code",
   "execution_count": 44,
   "id": "90724da7",
   "metadata": {},
   "outputs": [
    {
     "name": "stdout",
     "output_type": "stream",
     "text": [
      "6/6 [==============================] - 1s 18ms/step\n"
     ]
    }
   ],
   "source": [
    "y_pred = model.predict(X_test)"
   ]
  },
  {
   "cell_type": "code",
   "execution_count": 46,
   "id": "de86d40b",
   "metadata": {},
   "outputs": [],
   "source": [
    "y_pred = scaler.inverse_transform(y_pred.reshape(-1, 1))\n",
    "y_test = scaler.inverse_transform(y_test.reshape(-1, 1))"
   ]
  },
  {
   "cell_type": "markdown",
   "id": "f8183f82",
   "metadata": {},
   "source": [
    "### graphs and metrices"
   ]
  },
  {
   "cell_type": "code",
   "execution_count": 49,
   "id": "fa20a717",
   "metadata": {},
   "outputs": [
    {
     "name": "stdout",
     "output_type": "stream",
     "text": [
      "0.8184620576036917\n",
      "14.872073360466809\n",
      "367.34691996676133\n",
      "19.16629645932571\n"
     ]
    }
   ],
   "source": [
    "from sklearn.metrics import r2_score, mean_absolute_error, mean_squared_error, root_mean_squared_error\n",
    "print(r2_score(y_pred, y_test))\n",
    "print(mean_absolute_error(y_pred, y_test))\n",
    "print(mean_squared_error(y_pred, y_test))\n",
    "print(root_mean_squared_error(y_pred, y_test))"
   ]
  },
  {
   "cell_type": "code",
   "execution_count": 50,
   "id": "0e727091",
   "metadata": {},
   "outputs": [
    {
     "data": {
      "text/plain": [
       "[<matplotlib.lines.Line2D at 0x2a36f5b2ce0>]"
      ]
     },
     "execution_count": 50,
     "metadata": {},
     "output_type": "execute_result"
    },
    {
     "data": {
      "image/png": "[encoded data removed]",
      "text/plain": [
       "<Figure size 640x480 with 1 Axes>"
      ]
     },
     "metadata": {},
     "output_type": "display_data"
    }
   ],
   "source": [
    "plt.plot(y_test)\n",
    "plt.plot(y_pred)"
   ]
  },
  {
   "cell_type": "code",
   "execution_count": 51,
   "id": "0d3871c6",
   "metadata": {},
   "outputs": [
    {
     "data": {
      "text/plain": [
       "<matplotlib.collections.PathCollection at 0x2a36f612080>"
      ]
     },
     "execution_count": 51,
     "metadata": {},
     "output_type": "execute_result"
    },
    {
     "data": {
      "image/png": "[encoded data removed]",
      "text/plain": [
       "<Figure size 640x480 with 1 Axes>"
      ]
     },
     "metadata": {},
     "output_type": "display_data"
    }
   ],
   "source": [
    "plt.scatter(y_test, y_pred)\n",
    "plt.scatter(y_pred, y_test, edgecolors = 'g')"
   ]
  },
  {
   "cell_type": "markdown",
   "id": "e4d38cc7",
   "metadata": {},
   "source": [
    "### predicting the next 180 days"
   ]
  },
  {
   "cell_type": "code",
   "execution_count": 52,
   "id": "bf7f890a",
   "metadata": {},
   "outputs": [],
   "source": [
    "num_days = 180\n",
    "last_sequence = df[-num_days : ]"
   ]
  },
  {
   "cell_type": "code",
   "execution_count": 56,
   "id": "85ea1a9a",
   "metadata": {},
   "outputs": [],
   "source": [
    "def next_pedictions(model, scaler, last_sequence, days = num_days) : \n",
    "    predictions = []\n",
    "    input_sequence = last_sequence.copy().reshape(1, -1, 1)\n",
    "\n",
    "    for _ in range(num_days) : \n",
    "        next_preds = model.predict(input_sequence, verbose = 0)\n",
    "        predictions.append(next_preds[0][0])\n",
    "\n",
    "        next_input = np.array([[[next_preds[0][0]]]])\n",
    "        input_sequence = np.concatenate([input_sequence[:, 1:, :], next_input], axis = 1)\n",
    "\n",
    "    predictions = np.array(predictions).reshape(-1, 1)\n",
    "    predictions = scaler.inverse_transform(predictions)\n",
    "\n",
    "    return predictions"
   ]
  },
  {
   "cell_type": "code",
   "execution_count": 57,
   "id": "0c057ab8",
   "metadata": {},
   "outputs": [],
   "source": [
    "future_price = next_pedictions(model, scaler, last_sequence, days = 180)"
   ]
  },
  {
   "cell_type": "code",
   "execution_count": 58,
   "id": "9f9f2829",
   "metadata": {},
   "outputs": [
    {
     "data": {
      "text/plain": [
       "array([[441.1589 ],\n",
       "       [441.7153 ],\n",
       "       [443.2134 ],\n",
       "       [445.17648],\n",
       "       [447.4504 ],\n",
       "       [449.7043 ],\n",
       "       [452.27127],\n",
       "       [454.75784],\n",
       "       [457.3821 ],\n",
       "       [460.06744],\n",
       "       [462.74725],\n",
       "       [465.4601 ],\n",
       "       [468.1771 ],\n",
       "       [470.822  ],\n",
       "       [473.46075],\n",
       "       [475.95685],\n",
       "       [478.47266],\n",
       "       [481.04947],\n",
       "       [483.4534 ],\n",
       "       [485.95053],\n",
       "       [488.38504],\n",
       "       [490.8546 ],\n",
       "       [493.29288],\n",
       "       [495.69913],\n",
       "       [497.852  ],\n",
       "       [499.87274],\n",
       "       [501.88892],\n",
       "       [503.7929 ],\n",
       "       [505.57446],\n",
       "       [507.36255],\n",
       "       [509.1482 ],\n",
       "       [510.87497],\n",
       "       [512.67126],\n",
       "       [514.35406],\n",
       "       [515.98145],\n",
       "       [517.5094 ],\n",
       "       [519.1295 ],\n",
       "       [520.7499 ],\n",
       "       [522.3105 ],\n",
       "       [524.02203],\n",
       "       [525.7409 ],\n",
       "       [527.6576 ],\n",
       "       [529.35364],\n",
       "       [531.0744 ],\n",
       "       [532.9508 ],\n",
       "       [534.804  ],\n",
       "       [536.8033 ],\n",
       "       [538.79926],\n",
       "       [540.67847],\n",
       "       [542.5588 ],\n",
       "       [544.2987 ],\n",
       "       [545.9122 ],\n",
       "       [547.59863],\n",
       "       [549.3498 ],\n",
       "       [550.9789 ],\n",
       "       [552.62085],\n",
       "       [554.1859 ],\n",
       "       [555.6619 ],\n",
       "       [557.1542 ],\n",
       "       [558.8349 ],\n",
       "       [560.5779 ],\n",
       "       [562.2214 ],\n",
       "       [563.8473 ],\n",
       "       [565.2395 ],\n",
       "       [566.99396],\n",
       "       [568.66425],\n",
       "       [570.38165],\n",
       "       [572.1659 ],\n",
       "       [574.0827 ],\n",
       "       [576.0111 ],\n",
       "       [578.03345],\n",
       "       [579.9537 ],\n",
       "       [581.8705 ],\n",
       "       [583.7837 ],\n",
       "       [585.62775],\n",
       "       [587.60254],\n",
       "       [589.58545],\n",
       "       [591.68146],\n",
       "       [593.78033],\n",
       "       [595.91846],\n",
       "       [598.1917 ],\n",
       "       [600.4971 ],\n",
       "       [602.7914 ],\n",
       "       [605.03534],\n",
       "       [607.21277],\n",
       "       [609.3047 ],\n",
       "       [611.35986],\n",
       "       [613.3798 ],\n",
       "       [615.42773],\n",
       "       [617.3752 ],\n",
       "       [619.3494 ],\n",
       "       [621.23206],\n",
       "       [623.0974 ],\n",
       "       [624.80963],\n",
       "       [626.45996],\n",
       "       [627.9273 ],\n",
       "       [629.479  ],\n",
       "       [630.9498 ],\n",
       "       [632.45557],\n",
       "       [633.9163 ],\n",
       "       [635.40546],\n",
       "       [637.04315],\n",
       "       [638.83   ],\n",
       "       [640.3204 ],\n",
       "       [641.7964 ],\n",
       "       [643.25287],\n",
       "       [644.77844],\n",
       "       [646.2949 ],\n",
       "       [647.7126 ],\n",
       "       [649.1236 ],\n",
       "       [650.5524 ],\n",
       "       [651.8218 ],\n",
       "       [653.03265],\n",
       "       [654.085  ],\n",
       "       [655.2799 ],\n",
       "       [656.4494 ],\n",
       "       [657.5456 ],\n",
       "       [658.65186],\n",
       "       [659.7934 ],\n",
       "       [660.97284],\n",
       "       [662.0289 ],\n",
       "       [663.21735],\n",
       "       [664.5102 ],\n",
       "       [665.68634],\n",
       "       [666.8814 ],\n",
       "       [667.99414],\n",
       "       [669.14484],\n",
       "       [670.2752 ],\n",
       "       [671.40265],\n",
       "       [672.41077],\n",
       "       [673.43335],\n",
       "       [674.35736],\n",
       "       [675.3041 ],\n",
       "       [676.21234],\n",
       "       [677.15356],\n",
       "       [678.1913 ],\n",
       "       [679.0309 ],\n",
       "       [679.9077 ],\n",
       "       [680.8769 ],\n",
       "       [681.86957],\n",
       "       [682.9304 ],\n",
       "       [683.9756 ],\n",
       "       [684.97504],\n",
       "       [685.99786],\n",
       "       [686.9477 ],\n",
       "       [687.9073 ],\n",
       "       [688.8021 ],\n",
       "       [689.6639 ],\n",
       "       [690.54694],\n",
       "       [691.4378 ],\n",
       "       [692.34076],\n",
       "       [693.2508 ],\n",
       "       [694.1396 ],\n",
       "       [695.1004 ],\n",
       "       [696.05994],\n",
       "       [696.98444],\n",
       "       [697.79645],\n",
       "       [698.68756],\n",
       "       [699.6145 ],\n",
       "       [700.62695],\n",
       "       [701.7226 ],\n",
       "       [702.93445],\n",
       "       [704.1815 ],\n",
       "       [705.466  ],\n",
       "       [706.8304 ],\n",
       "       [708.24976],\n",
       "       [709.8177 ],\n",
       "       [711.39264],\n",
       "       [712.9484 ],\n",
       "       [714.3669 ],\n",
       "       [715.7242 ],\n",
       "       [717.103  ],\n",
       "       [718.4552 ],\n",
       "       [719.8187 ],\n",
       "       [721.19855],\n",
       "       [722.458  ],\n",
       "       [723.72394],\n",
       "       [725.04254],\n",
       "       [726.2487 ],\n",
       "       [727.60596]], dtype=float32)"
      ]
     },
     "execution_count": 58,
     "metadata": {},
     "output_type": "execute_result"
    }
   ],
   "source": [
    "future_price"
   ]
  },
  {
   "cell_type": "code",
   "execution_count": 59,
   "id": "58eba099",
   "metadata": {},
   "outputs": [
    {
     "data": {
      "text/plain": [
       "[<matplotlib.lines.Line2D at 0x2a373ad69b0>]"
      ]
     },
     "execution_count": 59,
     "metadata": {},
     "output_type": "execute_result"
    },
    {
     "data": {
      "image/png": "[encoded data removed]",
      "text/plain": [
       "<Figure size 640x480 with 1 Axes>"
      ]
     },
     "metadata": {},
     "output_type": "display_data"
    }
   ],
   "source": [
    "plt.plot(future_price)"
   ]
  },
  {
   "cell_type": "code",
   "execution_count": 61,
   "id": "4d053d18",
   "metadata": {},
   "outputs": [
    {
     "data": {
      "text/plain": [
       "[<matplotlib.lines.Line2D at 0x2a36f99b3a0>]"
      ]
     },
     "execution_count": 61,
     "metadata": {},
     "output_type": "execute_result"
    },
    {
     "data": {
      "image/png": "[encoded data removed]",
      "text/plain": [
       "<Figure size 640x480 with 1 Axes>"
      ]
     },
     "metadata": {},
     "output_type": "display_data"
    }
   ],
   "source": [
    "plt.plot(range(len(data['close'])), data['close'], label = 'actual')\n",
    "start = len(data['close'])\n",
    "end = start + len(future_price)\n",
    "plt.plot(range(start, end), future_price, label = 'predicted prices')"
   ]
  },
  {
   "cell_type": "code",
   "execution_count": null,
   "id": "8690fc00",
   "metadata": {},
   "outputs": [],
   "source": []
  },
  {
   "cell_type": "code",
   "execution_count": null,
   "id": "cf8b0ab9",
   "metadata": {},
   "outputs": [],
   "source": []
  },
  {
   "cell_type": "code",
   "execution_count": null,
   "id": "dbf66f85",
   "metadata": {},
   "outputs": [],
   "source": []
  },
  {
   "cell_type": "code",
   "execution_count": null,
   "id": "6397a03c",
   "metadata": {},
   "outputs": [],
   "source": []
  },
  {
   "cell_type": "code",
   "execution_count": null,
   "id": "6c96701a",
   "metadata": {},
   "outputs": [],
   "source": []
  },
  {
   "cell_type": "code",
   "execution_count": null,
   "id": "72418934",
   "metadata": {},
   "outputs": [],
   "source": []
  },
  {
   "cell_type": "code",
   "execution_count": null,
   "id": "0bc1d34a",
   "metadata": {},
   "outputs": [],
   "source": []
  },
  {
   "cell_type": "code",
   "execution_count": null,
   "id": "fded8f70",
   "metadata": {},
   "outputs": [],
   "source": []
  },
  {
   "cell_type": "code",
   "execution_count": null,
   "id": "9b5abf64",
   "metadata": {},
   "outputs": [],
   "source": []
  },
  {
   "cell_type": "code",
   "execution_count": null,
   "id": "947c7564",
   "metadata": {},
   "outputs": [],
   "source": []
  },
  {
   "cell_type": "code",
   "execution_count": null,
   "id": "2e08bf4d",
   "metadata": {},
   "outputs": [],
   "source": []
  },
  {
   "cell_type": "code",
   "execution_count": null,
   "id": "e5e60767",
   "metadata": {},
   "outputs": [],
   "source": []
  },
  {
   "cell_type": "code",
   "execution_count": null,
   "id": "8b112e1e",
   "metadata": {},
   "outputs": [],
   "source": []
  }
 ],
 "metadata": {
  "kernelspec": {
   "display_name": "tfenv",
   "language": "python",
   "name": "python3"
  },
  "language_info": {
   "codemirror_mode": {
    "name": "ipython",
    "version": 3
   },
   "file_extension": ".py",
   "mimetype": "text/x-python",
   "name": "python",
   "nbconvert_exporter": "python",
   "pygments_lexer": "ipython3",
   "version": "3.10.18"
  }
 },
 "nbformat": 4,
 "nbformat_minor": 5
}
